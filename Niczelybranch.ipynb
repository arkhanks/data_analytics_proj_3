{
 "cells": [
  {
   "cell_type": "code",
   "execution_count": 1,
   "metadata": {},
   "outputs": [
    {
     "data": {
      "application/javascript": "(function(root) {\n  function now() {\n    return new Date();\n  }\n\n  var force = true;\n  var py_version = '3.4.1'.replace('rc', '-rc.').replace('.dev', '-dev.');\n  var reloading = false;\n  var Bokeh = root.Bokeh;\n\n  if (typeof (root._bokeh_timeout) === \"undefined\" || force) {\n    root._bokeh_timeout = Date.now() + 5000;\n    root._bokeh_failed_load = false;\n  }\n\n  function run_callbacks() {\n    try {\n      root._bokeh_onload_callbacks.forEach(function(callback) {\n        if (callback != null)\n          callback();\n      });\n    } finally {\n      delete root._bokeh_onload_callbacks;\n    }\n    console.debug(\"Bokeh: all callbacks have finished\");\n  }\n\n  function load_libs(css_urls, js_urls, js_modules, js_exports, callback) {\n    if (css_urls == null) css_urls = [];\n    if (js_urls == null) js_urls = [];\n    if (js_modules == null) js_modules = [];\n    if (js_exports == null) js_exports = {};\n\n    root._bokeh_onload_callbacks.push(callback);\n\n    if (root._bokeh_is_loading > 0) {\n      console.debug(\"Bokeh: BokehJS is being loaded, scheduling callback at\", now());\n      return null;\n    }\n    if (js_urls.length === 0 && js_modules.length === 0 && Object.keys(js_exports).length === 0) {\n      run_callbacks();\n      return null;\n    }\n    if (!reloading) {\n      console.debug(\"Bokeh: BokehJS not loaded, scheduling load and callback at\", now());\n    }\n\n    function on_load() {\n      root._bokeh_is_loading--;\n      if (root._bokeh_is_loading === 0) {\n        console.debug(\"Bokeh: all BokehJS libraries/stylesheets loaded\");\n        run_callbacks()\n      }\n    }\n    window._bokeh_on_load = on_load\n\n    function on_error() {\n      console.error(\"failed to load \" + url);\n    }\n\n    var skip = [];\n    if (window.requirejs) {\n      window.requirejs.config({'packages': {}, 'paths': {}, 'shim': {}});\n      root._bokeh_is_loading = css_urls.length + 0;\n    } else {\n      root._bokeh_is_loading = css_urls.length + js_urls.length + js_modules.length + Object.keys(js_exports).length;\n    }\n\n    var existing_stylesheets = []\n    var links = document.getElementsByTagName('link')\n    for (var i = 0; i < links.length; i++) {\n      var link = links[i]\n      if (link.href != null) {\n\texisting_stylesheets.push(link.href)\n      }\n    }\n    for (var i = 0; i < css_urls.length; i++) {\n      var url = css_urls[i];\n      if (existing_stylesheets.indexOf(url) !== -1) {\n\ton_load()\n\tcontinue;\n      }\n      const element = document.createElement(\"link\");\n      element.onload = on_load;\n      element.onerror = on_error;\n      element.rel = \"stylesheet\";\n      element.type = \"text/css\";\n      element.href = url;\n      console.debug(\"Bokeh: injecting link tag for BokehJS stylesheet: \", url);\n      document.body.appendChild(element);\n    }    var existing_scripts = []\n    var scripts = document.getElementsByTagName('script')\n    for (var i = 0; i < scripts.length; i++) {\n      var script = scripts[i]\n      if (script.src != null) {\n\texisting_scripts.push(script.src)\n      }\n    }\n    for (var i = 0; i < js_urls.length; i++) {\n      var url = js_urls[i];\n      if (skip.indexOf(url) !== -1 || existing_scripts.indexOf(url) !== -1) {\n\tif (!window.requirejs) {\n\t  on_load();\n\t}\n\tcontinue;\n      }\n      var element = document.createElement('script');\n      element.onload = on_load;\n      element.onerror = on_error;\n      element.async = false;\n      element.src = url;\n      console.debug(\"Bokeh: injecting script tag for BokehJS library: \", url);\n      document.head.appendChild(element);\n    }\n    for (var i = 0; i < js_modules.length; i++) {\n      var url = js_modules[i];\n      if (skip.indexOf(url) !== -1 || existing_scripts.indexOf(url) !== -1) {\n\tif (!window.requirejs) {\n\t  on_load();\n\t}\n\tcontinue;\n      }\n      var element = document.createElement('script');\n      element.onload = on_load;\n      element.onerror = on_error;\n      element.async = false;\n      element.src = url;\n      element.type = \"module\";\n      console.debug(\"Bokeh: injecting script tag for BokehJS library: \", url);\n      document.head.appendChild(element);\n    }\n    for (const name in js_exports) {\n      var url = js_exports[name];\n      if (skip.indexOf(url) >= 0 || root[name] != null) {\n\tif (!window.requirejs) {\n\t  on_load();\n\t}\n\tcontinue;\n      }\n      var element = document.createElement('script');\n      element.onerror = on_error;\n      element.async = false;\n      element.type = \"module\";\n      console.debug(\"Bokeh: injecting script tag for BokehJS library: \", url);\n      element.textContent = `\n      import ${name} from \"${url}\"\n      window.${name} = ${name}\n      window._bokeh_on_load()\n      `\n      document.head.appendChild(element);\n    }\n    if (!js_urls.length && !js_modules.length) {\n      on_load()\n    }\n  };\n\n  function inject_raw_css(css) {\n    const element = document.createElement(\"style\");\n    element.appendChild(document.createTextNode(css));\n    document.body.appendChild(element);\n  }\n\n  var js_urls = [\"https://cdn.bokeh.org/bokeh/release/bokeh-3.4.1.min.js\", \"https://cdn.bokeh.org/bokeh/release/bokeh-gl-3.4.1.min.js\", \"https://cdn.bokeh.org/bokeh/release/bokeh-widgets-3.4.1.min.js\", \"https://cdn.bokeh.org/bokeh/release/bokeh-tables-3.4.1.min.js\", \"https://cdn.holoviz.org/panel/1.4.4/dist/panel.min.js\"];\n  var js_modules = [];\n  var js_exports = {};\n  var css_urls = [];\n  var inline_js = [    function(Bokeh) {\n      Bokeh.set_log_level(\"info\");\n    },\nfunction(Bokeh) {} // ensure no trailing comma for IE\n  ];\n\n  function run_inline_js() {\n    if ((root.Bokeh !== undefined) || (force === true)) {\n      for (var i = 0; i < inline_js.length; i++) {\n\ttry {\n          inline_js[i].call(root, root.Bokeh);\n\t} catch(e) {\n\t  if (!reloading) {\n\t    throw e;\n\t  }\n\t}\n      }\n      // Cache old bokeh versions\n      if (Bokeh != undefined && !reloading) {\n\tvar NewBokeh = root.Bokeh;\n\tif (Bokeh.versions === undefined) {\n\t  Bokeh.versions = new Map();\n\t}\n\tif (NewBokeh.version !== Bokeh.version) {\n\t  Bokeh.versions.set(NewBokeh.version, NewBokeh)\n\t}\n\troot.Bokeh = Bokeh;\n      }} else if (Date.now() < root._bokeh_timeout) {\n      setTimeout(run_inline_js, 100);\n    } else if (!root._bokeh_failed_load) {\n      console.log(\"Bokeh: BokehJS failed to load within specified timeout.\");\n      root._bokeh_failed_load = true;\n    }\n    root._bokeh_is_initializing = false\n  }\n\n  function load_or_wait() {\n    // Implement a backoff loop that tries to ensure we do not load multiple\n    // versions of Bokeh and its dependencies at the same time.\n    // In recent versions we use the root._bokeh_is_initializing flag\n    // to determine whether there is an ongoing attempt to initialize\n    // bokeh, however for backward compatibility we also try to ensure\n    // that we do not start loading a newer (Panel>=1.0 and Bokeh>3) version\n    // before older versions are fully initialized.\n    if (root._bokeh_is_initializing && Date.now() > root._bokeh_timeout) {\n      root._bokeh_is_initializing = false;\n      root._bokeh_onload_callbacks = undefined;\n      console.log(\"Bokeh: BokehJS was loaded multiple times but one version failed to initialize.\");\n      load_or_wait();\n    } else if (root._bokeh_is_initializing || (typeof root._bokeh_is_initializing === \"undefined\" && root._bokeh_onload_callbacks !== undefined)) {\n      setTimeout(load_or_wait, 100);\n    } else {\n      root._bokeh_is_initializing = true\n      root._bokeh_onload_callbacks = []\n      var bokeh_loaded = Bokeh != null && (Bokeh.version === py_version || (Bokeh.versions !== undefined && Bokeh.versions.has(py_version)));\n      if (!reloading && !bokeh_loaded) {\n\troot.Bokeh = undefined;\n      }\n      load_libs(css_urls, js_urls, js_modules, js_exports, function() {\n\tconsole.debug(\"Bokeh: BokehJS plotting callback run at\", now());\n\trun_inline_js();\n      });\n    }\n  }\n  // Give older versions of the autoload script a head-start to ensure\n  // they initialize before we start loading newer version.\n  setTimeout(load_or_wait, 100)\n}(window));",
      "application/vnd.holoviews_load.v0+json": ""
     },
     "metadata": {},
     "output_type": "display_data"
    },
    {
     "data": {
      "application/javascript": "\nif ((window.PyViz === undefined) || (window.PyViz instanceof HTMLElement)) {\n  window.PyViz = {comms: {}, comm_status:{}, kernels:{}, receivers: {}, plot_index: []}\n}\n\n\n    function JupyterCommManager() {\n    }\n\n    JupyterCommManager.prototype.register_target = function(plot_id, comm_id, msg_handler) {\n      if (window.comm_manager || ((window.Jupyter !== undefined) && (Jupyter.notebook.kernel != null))) {\n        var comm_manager = window.comm_manager || Jupyter.notebook.kernel.comm_manager;\n        comm_manager.register_target(comm_id, function(comm) {\n          comm.on_msg(msg_handler);\n        });\n      } else if ((plot_id in window.PyViz.kernels) && (window.PyViz.kernels[plot_id])) {\n        window.PyViz.kernels[plot_id].registerCommTarget(comm_id, function(comm) {\n          comm.onMsg = msg_handler;\n        });\n      } else if (typeof google != 'undefined' && google.colab.kernel != null) {\n        google.colab.kernel.comms.registerTarget(comm_id, (comm) => {\n          var messages = comm.messages[Symbol.asyncIterator]();\n          function processIteratorResult(result) {\n            var message = result.value;\n            console.log(message)\n            var content = {data: message.data, comm_id};\n            var buffers = []\n            for (var buffer of message.buffers || []) {\n              buffers.push(new DataView(buffer))\n            }\n            var metadata = message.metadata || {};\n            var msg = {content, buffers, metadata}\n            msg_handler(msg);\n            return messages.next().then(processIteratorResult);\n          }\n          return messages.next().then(processIteratorResult);\n        })\n      }\n    }\n\n    JupyterCommManager.prototype.get_client_comm = function(plot_id, comm_id, msg_handler) {\n      if (comm_id in window.PyViz.comms) {\n        return window.PyViz.comms[comm_id];\n      } else if (window.comm_manager || ((window.Jupyter !== undefined) && (Jupyter.notebook.kernel != null))) {\n        var comm_manager = window.comm_manager || Jupyter.notebook.kernel.comm_manager;\n        var comm = comm_manager.new_comm(comm_id, {}, {}, {}, comm_id);\n        if (msg_handler) {\n          comm.on_msg(msg_handler);\n        }\n      } else if ((plot_id in window.PyViz.kernels) && (window.PyViz.kernels[plot_id])) {\n        var comm = window.PyViz.kernels[plot_id].connectToComm(comm_id);\n        comm.open();\n        if (msg_handler) {\n          comm.onMsg = msg_handler;\n        }\n      } else if (typeof google != 'undefined' && google.colab.kernel != null) {\n        var comm_promise = google.colab.kernel.comms.open(comm_id)\n        comm_promise.then((comm) => {\n          window.PyViz.comms[comm_id] = comm;\n          if (msg_handler) {\n            var messages = comm.messages[Symbol.asyncIterator]();\n            function processIteratorResult(result) {\n              var message = result.value;\n              var content = {data: message.data};\n              var metadata = message.metadata || {comm_id};\n              var msg = {content, metadata}\n              msg_handler(msg);\n              return messages.next().then(processIteratorResult);\n            }\n            return messages.next().then(processIteratorResult);\n          }\n        }) \n        var sendClosure = (data, metadata, buffers, disposeOnDone) => {\n          return comm_promise.then((comm) => {\n            comm.send(data, metadata, buffers, disposeOnDone);\n          });\n        };\n        var comm = {\n          send: sendClosure\n        };\n      }\n      window.PyViz.comms[comm_id] = comm;\n      return comm;\n    }\n    window.PyViz.comm_manager = new JupyterCommManager();\n    \n\n\nvar JS_MIME_TYPE = 'application/javascript';\nvar HTML_MIME_TYPE = 'text/html';\nvar EXEC_MIME_TYPE = 'application/vnd.holoviews_exec.v0+json';\nvar CLASS_NAME = 'output';\n\n/**\n * Render data to the DOM node\n */\nfunction render(props, node) {\n  var div = document.createElement(\"div\");\n  var script = document.createElement(\"script\");\n  node.appendChild(div);\n  node.appendChild(script);\n}\n\n/**\n * Handle when a new output is added\n */\nfunction handle_add_output(event, handle) {\n  var output_area = handle.output_area;\n  var output = handle.output;\n  if ((output.data == undefined) || (!output.data.hasOwnProperty(EXEC_MIME_TYPE))) {\n    return\n  }\n  var id = output.metadata[EXEC_MIME_TYPE][\"id\"];\n  var toinsert = output_area.element.find(\".\" + CLASS_NAME.split(' ')[0]);\n  if (id !== undefined) {\n    var nchildren = toinsert.length;\n    var html_node = toinsert[nchildren-1].children[0];\n    html_node.innerHTML = output.data[HTML_MIME_TYPE];\n    var scripts = [];\n    var nodelist = html_node.querySelectorAll(\"script\");\n    for (var i in nodelist) {\n      if (nodelist.hasOwnProperty(i)) {\n        scripts.push(nodelist[i])\n      }\n    }\n\n    scripts.forEach( function (oldScript) {\n      var newScript = document.createElement(\"script\");\n      var attrs = [];\n      var nodemap = oldScript.attributes;\n      for (var j in nodemap) {\n        if (nodemap.hasOwnProperty(j)) {\n          attrs.push(nodemap[j])\n        }\n      }\n      attrs.forEach(function(attr) { newScript.setAttribute(attr.name, attr.value) });\n      newScript.appendChild(document.createTextNode(oldScript.innerHTML));\n      oldScript.parentNode.replaceChild(newScript, oldScript);\n    });\n    if (JS_MIME_TYPE in output.data) {\n      toinsert[nchildren-1].children[1].textContent = output.data[JS_MIME_TYPE];\n    }\n    output_area._hv_plot_id = id;\n    if ((window.Bokeh !== undefined) && (id in Bokeh.index)) {\n      window.PyViz.plot_index[id] = Bokeh.index[id];\n    } else {\n      window.PyViz.plot_index[id] = null;\n    }\n  } else if (output.metadata[EXEC_MIME_TYPE][\"server_id\"] !== undefined) {\n    var bk_div = document.createElement(\"div\");\n    bk_div.innerHTML = output.data[HTML_MIME_TYPE];\n    var script_attrs = bk_div.children[0].attributes;\n    for (var i = 0; i < script_attrs.length; i++) {\n      toinsert[toinsert.length - 1].childNodes[1].setAttribute(script_attrs[i].name, script_attrs[i].value);\n    }\n    // store reference to server id on output_area\n    output_area._bokeh_server_id = output.metadata[EXEC_MIME_TYPE][\"server_id\"];\n  }\n}\n\n/**\n * Handle when an output is cleared or removed\n */\nfunction handle_clear_output(event, handle) {\n  var id = handle.cell.output_area._hv_plot_id;\n  var server_id = handle.cell.output_area._bokeh_server_id;\n  if (((id === undefined) || !(id in PyViz.plot_index)) && (server_id !== undefined)) { return; }\n  var comm = window.PyViz.comm_manager.get_client_comm(\"hv-extension-comm\", \"hv-extension-comm\", function () {});\n  if (server_id !== null) {\n    comm.send({event_type: 'server_delete', 'id': server_id});\n    return;\n  } else if (comm !== null) {\n    comm.send({event_type: 'delete', 'id': id});\n  }\n  delete PyViz.plot_index[id];\n  if ((window.Bokeh !== undefined) & (id in window.Bokeh.index)) {\n    var doc = window.Bokeh.index[id].model.document\n    doc.clear();\n    const i = window.Bokeh.documents.indexOf(doc);\n    if (i > -1) {\n      window.Bokeh.documents.splice(i, 1);\n    }\n  }\n}\n\n/**\n * Handle kernel restart event\n */\nfunction handle_kernel_cleanup(event, handle) {\n  delete PyViz.comms[\"hv-extension-comm\"];\n  window.PyViz.plot_index = {}\n}\n\n/**\n * Handle update_display_data messages\n */\nfunction handle_update_output(event, handle) {\n  handle_clear_output(event, {cell: {output_area: handle.output_area}})\n  handle_add_output(event, handle)\n}\n\nfunction register_renderer(events, OutputArea) {\n  function append_mime(data, metadata, element) {\n    // create a DOM node to render to\n    var toinsert = this.create_output_subarea(\n    metadata,\n    CLASS_NAME,\n    EXEC_MIME_TYPE\n    );\n    this.keyboard_manager.register_events(toinsert);\n    // Render to node\n    var props = {data: data, metadata: metadata[EXEC_MIME_TYPE]};\n    render(props, toinsert[0]);\n    element.append(toinsert);\n    return toinsert\n  }\n\n  events.on('output_added.OutputArea', handle_add_output);\n  events.on('output_updated.OutputArea', handle_update_output);\n  events.on('clear_output.CodeCell', handle_clear_output);\n  events.on('delete.Cell', handle_clear_output);\n  events.on('kernel_ready.Kernel', handle_kernel_cleanup);\n\n  OutputArea.prototype.register_mime_type(EXEC_MIME_TYPE, append_mime, {\n    safe: true,\n    index: 0\n  });\n}\n\nif (window.Jupyter !== undefined) {\n  try {\n    var events = require('base/js/events');\n    var OutputArea = require('notebook/js/outputarea').OutputArea;\n    if (OutputArea.prototype.mime_types().indexOf(EXEC_MIME_TYPE) == -1) {\n      register_renderer(events, OutputArea);\n    }\n  } catch(err) {\n  }\n}\n",
      "application/vnd.holoviews_load.v0+json": ""
     },
     "metadata": {},
     "output_type": "display_data"
    },
    {
     "data": {
      "text/html": [
       "<style>*[data-root-id],\n",
       "*[data-root-id] > * {\n",
       "  box-sizing: border-box;\n",
       "  font-family: var(--jp-ui-font-family);\n",
       "  font-size: var(--jp-ui-font-size1);\n",
       "  color: var(--vscode-editor-foreground, var(--jp-ui-font-color1));\n",
       "}\n",
       "\n",
       "/* Override VSCode background color */\n",
       ".cell-output-ipywidget-background:has(\n",
       "    > .cell-output-ipywidget-background > .lm-Widget > *[data-root-id]\n",
       "  ),\n",
       ".cell-output-ipywidget-background:has(> .lm-Widget > *[data-root-id]) {\n",
       "  background-color: transparent !important;\n",
       "}\n",
       "</style>"
      ]
     },
     "metadata": {},
     "output_type": "display_data"
    },
    {
     "data": {
      "application/vnd.holoviews_exec.v0+json": "",
      "text/html": [
       "<div id='p1002'>\n",
       "  <div id=\"c53da111-5e8f-44e6-b64c-fbc08f6f82c2\" data-root-id=\"p1002\" style=\"display: contents;\"></div>\n",
       "</div>\n",
       "<script type=\"application/javascript\">(function(root) {\n",
       "  var docs_json = {\"79945490-e088-4ae5-bff6-6134ac7bb59f\":{\"version\":\"3.4.1\",\"title\":\"Bokeh Application\",\"roots\":[{\"type\":\"object\",\"name\":\"panel.models.browser.BrowserInfo\",\"id\":\"p1002\"},{\"type\":\"object\",\"name\":\"panel.models.comm_manager.CommManager\",\"id\":\"p1003\",\"attributes\":{\"plot_id\":\"p1002\",\"comm_id\":\"e6ff4384266c404c9e701a0f12ab23d7\",\"client_comm_id\":\"802e2ae189de484896f59dd372155015\"}}],\"defs\":[{\"type\":\"model\",\"name\":\"ReactiveHTML1\"},{\"type\":\"model\",\"name\":\"FlexBox1\",\"properties\":[{\"name\":\"align_content\",\"kind\":\"Any\",\"default\":\"flex-start\"},{\"name\":\"align_items\",\"kind\":\"Any\",\"default\":\"flex-start\"},{\"name\":\"flex_direction\",\"kind\":\"Any\",\"default\":\"row\"},{\"name\":\"flex_wrap\",\"kind\":\"Any\",\"default\":\"wrap\"},{\"name\":\"gap\",\"kind\":\"Any\",\"default\":\"\"},{\"name\":\"justify_content\",\"kind\":\"Any\",\"default\":\"flex-start\"}]},{\"type\":\"model\",\"name\":\"FloatPanel1\",\"properties\":[{\"name\":\"config\",\"kind\":\"Any\",\"default\":{\"type\":\"map\"}},{\"name\":\"contained\",\"kind\":\"Any\",\"default\":true},{\"name\":\"position\",\"kind\":\"Any\",\"default\":\"right-top\"},{\"name\":\"offsetx\",\"kind\":\"Any\",\"default\":null},{\"name\":\"offsety\",\"kind\":\"Any\",\"default\":null},{\"name\":\"theme\",\"kind\":\"Any\",\"default\":\"primary\"},{\"name\":\"status\",\"kind\":\"Any\",\"default\":\"normalized\"}]},{\"type\":\"model\",\"name\":\"GridStack1\",\"properties\":[{\"name\":\"mode\",\"kind\":\"Any\",\"default\":\"warn\"},{\"name\":\"ncols\",\"kind\":\"Any\",\"default\":null},{\"name\":\"nrows\",\"kind\":\"Any\",\"default\":null},{\"name\":\"allow_resize\",\"kind\":\"Any\",\"default\":true},{\"name\":\"allow_drag\",\"kind\":\"Any\",\"default\":true},{\"name\":\"state\",\"kind\":\"Any\",\"default\":[]}]},{\"type\":\"model\",\"name\":\"drag1\",\"properties\":[{\"name\":\"slider_width\",\"kind\":\"Any\",\"default\":5},{\"name\":\"slider_color\",\"kind\":\"Any\",\"default\":\"black\"},{\"name\":\"value\",\"kind\":\"Any\",\"default\":50}]},{\"type\":\"model\",\"name\":\"click1\",\"properties\":[{\"name\":\"terminal_output\",\"kind\":\"Any\",\"default\":\"\"},{\"name\":\"debug_name\",\"kind\":\"Any\",\"default\":\"\"},{\"name\":\"clears\",\"kind\":\"Any\",\"default\":0}]},{\"type\":\"model\",\"name\":\"FastWrapper1\",\"properties\":[{\"name\":\"object\",\"kind\":\"Any\",\"default\":null},{\"name\":\"style\",\"kind\":\"Any\",\"default\":null}]},{\"type\":\"model\",\"name\":\"NotificationAreaBase1\",\"properties\":[{\"name\":\"js_events\",\"kind\":\"Any\",\"default\":{\"type\":\"map\"}},{\"name\":\"position\",\"kind\":\"Any\",\"default\":\"bottom-right\"},{\"name\":\"_clear\",\"kind\":\"Any\",\"default\":0}]},{\"type\":\"model\",\"name\":\"NotificationArea1\",\"properties\":[{\"name\":\"js_events\",\"kind\":\"Any\",\"default\":{\"type\":\"map\"}},{\"name\":\"notifications\",\"kind\":\"Any\",\"default\":[]},{\"name\":\"position\",\"kind\":\"Any\",\"default\":\"bottom-right\"},{\"name\":\"_clear\",\"kind\":\"Any\",\"default\":0},{\"name\":\"types\",\"kind\":\"Any\",\"default\":[{\"type\":\"map\",\"entries\":[[\"type\",\"warning\"],[\"background\",\"#ffc107\"],[\"icon\",{\"type\":\"map\",\"entries\":[[\"className\",\"fas fa-exclamation-triangle\"],[\"tagName\",\"i\"],[\"color\",\"white\"]]}]]},{\"type\":\"map\",\"entries\":[[\"type\",\"info\"],[\"background\",\"#007bff\"],[\"icon\",{\"type\":\"map\",\"entries\":[[\"className\",\"fas fa-info-circle\"],[\"tagName\",\"i\"],[\"color\",\"white\"]]}]]}]}]},{\"type\":\"model\",\"name\":\"Notification\",\"properties\":[{\"name\":\"background\",\"kind\":\"Any\",\"default\":null},{\"name\":\"duration\",\"kind\":\"Any\",\"default\":3000},{\"name\":\"icon\",\"kind\":\"Any\",\"default\":null},{\"name\":\"message\",\"kind\":\"Any\",\"default\":\"\"},{\"name\":\"notification_type\",\"kind\":\"Any\",\"default\":null},{\"name\":\"_destroyed\",\"kind\":\"Any\",\"default\":false}]},{\"type\":\"model\",\"name\":\"TemplateActions1\",\"properties\":[{\"name\":\"open_modal\",\"kind\":\"Any\",\"default\":0},{\"name\":\"close_modal\",\"kind\":\"Any\",\"default\":0}]},{\"type\":\"model\",\"name\":\"BootstrapTemplateActions1\",\"properties\":[{\"name\":\"open_modal\",\"kind\":\"Any\",\"default\":0},{\"name\":\"close_modal\",\"kind\":\"Any\",\"default\":0}]},{\"type\":\"model\",\"name\":\"TemplateEditor1\",\"properties\":[{\"name\":\"layout\",\"kind\":\"Any\",\"default\":[]}]},{\"type\":\"model\",\"name\":\"MaterialTemplateActions1\",\"properties\":[{\"name\":\"open_modal\",\"kind\":\"Any\",\"default\":0},{\"name\":\"close_modal\",\"kind\":\"Any\",\"default\":0}]},{\"type\":\"model\",\"name\":\"copy_to_clipboard1\",\"properties\":[{\"name\":\"fill\",\"kind\":\"Any\",\"default\":\"none\"},{\"name\":\"value\",\"kind\":\"Any\",\"default\":null}]}]}};\n",
       "  var render_items = [{\"docid\":\"79945490-e088-4ae5-bff6-6134ac7bb59f\",\"roots\":{\"p1002\":\"c53da111-5e8f-44e6-b64c-fbc08f6f82c2\"},\"root_ids\":[\"p1002\"]}];\n",
       "  var docs = Object.values(docs_json)\n",
       "  if (!docs) {\n",
       "    return\n",
       "  }\n",
       "  const py_version = docs[0].version.replace('rc', '-rc.').replace('.dev', '-dev.')\n",
       "  async function embed_document(root) {\n",
       "    var Bokeh = get_bokeh(root)\n",
       "    await Bokeh.embed.embed_items_notebook(docs_json, render_items);\n",
       "    for (const render_item of render_items) {\n",
       "      for (const root_id of render_item.root_ids) {\n",
       "\tconst id_el = document.getElementById(root_id)\n",
       "\tif (id_el.children.length && id_el.children[0].hasAttribute('data-root-id')) {\n",
       "\t  const root_el = id_el.children[0]\n",
       "\t  root_el.id = root_el.id + '-rendered'\n",
       "\t  for (const child of root_el.children) {\n",
       "            // Ensure JupyterLab does not capture keyboard shortcuts\n",
       "            // see: https://jupyterlab.readthedocs.io/en/4.1.x/extension/notebook.html#keyboard-interaction-model\n",
       "\t    child.setAttribute('data-lm-suppress-shortcuts', 'true')\n",
       "\t  }\n",
       "\t}\n",
       "      }\n",
       "    }\n",
       "  }\n",
       "  function get_bokeh(root) {\n",
       "    if (root.Bokeh === undefined) {\n",
       "      return null\n",
       "    } else if (root.Bokeh.version !== py_version) {\n",
       "      if (root.Bokeh.versions === undefined || !root.Bokeh.versions.has(py_version)) {\n",
       "\treturn null\n",
       "      }\n",
       "      return root.Bokeh.versions.get(py_version);\n",
       "    } else if (root.Bokeh.version === py_version) {\n",
       "      return root.Bokeh\n",
       "    }\n",
       "    return null\n",
       "  }\n",
       "  function is_loaded(root) {\n",
       "    var Bokeh = get_bokeh(root)\n",
       "    return (Bokeh != null && Bokeh.Panel !== undefined)\n",
       "  }\n",
       "  if (is_loaded(root)) {\n",
       "    embed_document(root);\n",
       "  } else {\n",
       "    var attempts = 0;\n",
       "    var timer = setInterval(function(root) {\n",
       "      if (is_loaded(root)) {\n",
       "        clearInterval(timer);\n",
       "        embed_document(root);\n",
       "      } else if (document.readyState == \"complete\") {\n",
       "        attempts++;\n",
       "        if (attempts > 200) {\n",
       "          clearInterval(timer);\n",
       "\t  var Bokeh = get_bokeh(root)\n",
       "\t  if (Bokeh == null || Bokeh.Panel == null) {\n",
       "            console.warn(\"Panel: ERROR: Unable to run Panel code because Bokeh or Panel library is missing\");\n",
       "\t  } else {\n",
       "\t    console.warn(\"Panel: WARNING: Attempting to render but not all required libraries could be resolved.\")\n",
       "\t    embed_document(root)\n",
       "\t  }\n",
       "        }\n",
       "      }\n",
       "    }, 25, root)\n",
       "  }\n",
       "})(window);</script>"
      ]
     },
     "metadata": {
      "application/vnd.holoviews_exec.v0+json": {
       "id": "p1002"
      }
     },
     "output_type": "display_data"
    }
   ],
   "source": [
    "# Import Dependancies\n",
    "import hvplot.pandas\n",
    "import pandas as pd\n",
    "from pathlib import Path\n",
    "import matplotlib.pyplot as plt\n",
    "from datetime import datetime"
   ]
  },
  {
   "cell_type": "code",
   "execution_count": 2,
   "metadata": {},
   "outputs": [
    {
     "name": "stdout",
     "output_type": "stream",
     "text": [
      "  Fuel Type Code                       Station Name      Street Address  \\\n",
      "0           ELEC           LADWP - Truesdale Center  11797 Truesdale St   \n",
      "1           ELEC      Los Angeles Convention Center  1201 S Figueroa St   \n",
      "2           ELEC      LADWP - John Ferraro Building       111 N Hope St   \n",
      "3           ELEC         LADWP - Haynes Power Plant       6801 E 2nd St   \n",
      "4           ELEC  LADWP - Harbor Generating Station    161 N Island Ave   \n",
      "\n",
      "    Intersection Directions         City State    ZIP  Plus4 Station Phone  \\\n",
      "0                       NaN   Sun Valley    CA  91352    NaN           NaN   \n",
      "1  West hall and South hall  Los Angeles    CA  90015    NaN  213-741-1151   \n",
      "2               Across Hope  Los Angeles    CA  90012    NaN           NaN   \n",
      "3                       NaN   Long Beach    CA  90803    NaN           NaN   \n",
      "4                   At B St   Wilmington    CA  90744    NaN           NaN   \n",
      "\n",
      "  Status Code  ... RD Blends RD Blends (French) RD Blended with Biodiesel  \\\n",
      "0           E  ...       NaN                NaN                       NaN   \n",
      "1           E  ...       NaN                NaN                       NaN   \n",
      "2           E  ...       NaN                NaN                       NaN   \n",
      "3           E  ...       NaN                NaN                       NaN   \n",
      "4           E  ...       NaN                NaN                       NaN   \n",
      "\n",
      "  RD Maximum Biodiesel Level  NPS Unit Name  \\\n",
      "0                        NaN            NaN   \n",
      "1                        NaN            NaN   \n",
      "2                        NaN            NaN   \n",
      "3                        NaN            NaN   \n",
      "4                        NaN            NaN   \n",
      "\n",
      "   CNG Station Sells Renewable Natural Gas  \\\n",
      "0                                      NaN   \n",
      "1                                      NaN   \n",
      "2                                      NaN   \n",
      "3                                      NaN   \n",
      "4                                      NaN   \n",
      "\n",
      "   LNG Station Sells Renewable Natural Gas  Maximum Vehicle Class  \\\n",
      "0                                      NaN                    NaN   \n",
      "1                                      NaN                     LD   \n",
      "2                                      NaN                     LD   \n",
      "3                                      NaN                    NaN   \n",
      "4                                      NaN                    NaN   \n",
      "\n",
      "   EV Workplace Charging  Funding Sources  \n",
      "0                   True              NaN  \n",
      "1                  False              NaN  \n",
      "2                   True              NaN  \n",
      "3                   True              NaN  \n",
      "4                   True              NaN  \n",
      "\n",
      "[5 rows x 75 columns]\n"
     ]
    },
    {
     "name": "stderr",
     "output_type": "stream",
     "text": [
      "C:\\Users\\Nicze\\AppData\\Local\\Temp\\ipykernel_5676\\1968467896.py:5: DtypeWarning: Columns (6,20,31,46,69,73,74) have mixed types. Specify dtype option on import or set low_memory=False.\n",
      "  data = pd.read_csv(path)\n"
     ]
    }
   ],
   "source": [
    "# Load dataset\n",
    "path = r'C:\\Users\\Nicze\\OneDrive\\Documents\\alt_fuel_stations (Jan 16 2025) (2).csv'\n",
    "\n",
    "# Read the CSV fil using pandas\n",
    "data = pd.read_csv(path)\n",
    "\n",
    "# Display the first few rows of the dataset\n",
    "print(data.head())"
   ]
  },
  {
   "cell_type": "code",
   "execution_count": 3,
   "metadata": {},
   "outputs": [
    {
     "name": "stdout",
     "output_type": "stream",
     "text": [
      "<class 'pandas.core.frame.DataFrame'>\n",
      "RangeIndex: 80612 entries, 0 to 80611\n",
      "Data columns (total 75 columns):\n",
      " #   Column                                   Non-Null Count  Dtype  \n",
      "---  ------                                   --------------  -----  \n",
      " 0   Fuel Type Code                           80612 non-null  object \n",
      " 1   Station Name                             80611 non-null  object \n",
      " 2   Street Address                           80580 non-null  object \n",
      " 3   Intersection Directions                  24121 non-null  object \n",
      " 4   City                                     80609 non-null  object \n",
      " 5   State                                    80612 non-null  object \n",
      " 6   ZIP                                      80612 non-null  object \n",
      " 7   Plus4                                    0 non-null      float64\n",
      " 8   Station Phone                            76657 non-null  object \n",
      " 9   Status Code                              80612 non-null  object \n",
      " 10  Expected Date                            5942 non-null   object \n",
      " 11  Groups With Access Code                  80612 non-null  object \n",
      " 12  Access Days Time                         72645 non-null  object \n",
      " 13  Cards Accepted                           7947 non-null   object \n",
      " 14  BD Blends                                0 non-null      float64\n",
      " 15  NG Fill Type Code                        0 non-null      float64\n",
      " 16  NG PSI                                   0 non-null      float64\n",
      " 17  EV Level1 EVSE Num                       651 non-null    float64\n",
      " 18  EV Level2 EVSE Num                       68915 non-null  float64\n",
      " 19  EV DC Fast Count                         12831 non-null  float64\n",
      " 20  EV Other Info                            16 non-null     object \n",
      " 21  EV Network                               80595 non-null  object \n",
      " 22  EV Network Web                           71169 non-null  object \n",
      " 23  Geocode Status                           80608 non-null  object \n",
      " 24  Latitude                                 80612 non-null  float64\n",
      " 25  Longitude                                80612 non-null  float64\n",
      " 26  Date Last Confirmed                      80491 non-null  object \n",
      " 27  ID                                       80612 non-null  int64  \n",
      " 28  Updated At                               80612 non-null  object \n",
      " 29  Owner Type Code                          21040 non-null  object \n",
      " 30  Federal Agency ID                        969 non-null    float64\n",
      " 31  Federal Agency Name                      969 non-null    object \n",
      " 32  Open Date                                80160 non-null  object \n",
      " 33  Hydrogen Status Link                     0 non-null      float64\n",
      " 34  NG Vehicle Class                         0 non-null      float64\n",
      " 35  LPG Primary                              0 non-null      float64\n",
      " 36  E85 Blender Pump                         0 non-null      float64\n",
      " 37  EV Connector Types                       80574 non-null  object \n",
      " 38  Country                                  80612 non-null  object \n",
      " 39  Intersection Directions (French)         0 non-null      float64\n",
      " 40  Access Days Time (French)                0 non-null      float64\n",
      " 41  BD Blends (French)                       0 non-null      float64\n",
      " 42  Groups With Access Code (French)         80612 non-null  object \n",
      " 43  Hydrogen Is Retail                       0 non-null      float64\n",
      " 44  Access Code                              80612 non-null  object \n",
      " 45  Access Detail Code                       4370 non-null   object \n",
      " 46  Federal Agency Code                      969 non-null    object \n",
      " 47  Facility Type                            19552 non-null  object \n",
      " 48  CNG Dispenser Num                        0 non-null      float64\n",
      " 49  CNG On-Site Renewable Source             0 non-null      float64\n",
      " 50  CNG Total Compression Capacity           0 non-null      float64\n",
      " 51  CNG Storage Capacity                     0 non-null      float64\n",
      " 52  LNG On-Site Renewable Source             0 non-null      float64\n",
      " 53  E85 Other Ethanol Blends                 0 non-null      float64\n",
      " 54  EV Pricing                               15540 non-null  object \n",
      " 55  EV Pricing (French)                      0 non-null      float64\n",
      " 56  LPG Nozzle Types                         0 non-null      float64\n",
      " 57  Hydrogen Pressures                       0 non-null      float64\n",
      " 58  Hydrogen Standards                       0 non-null      float64\n",
      " 59  CNG Fill Type Code                       0 non-null      float64\n",
      " 60  CNG PSI                                  0 non-null      float64\n",
      " 61  CNG Vehicle Class                        0 non-null      float64\n",
      " 62  LNG Vehicle Class                        0 non-null      float64\n",
      " 63  EV On-Site Renewable Source              404 non-null    object \n",
      " 64  Restricted Access                        12502 non-null  object \n",
      " 65  RD Blends                                0 non-null      float64\n",
      " 66  RD Blends (French)                       0 non-null      float64\n",
      " 67  RD Blended with Biodiesel                0 non-null      float64\n",
      " 68  RD Maximum Biodiesel Level               0 non-null      float64\n",
      " 69  NPS Unit Name                            323 non-null    object \n",
      " 70  CNG Station Sells Renewable Natural Gas  0 non-null      float64\n",
      " 71  LNG Station Sells Renewable Natural Gas  0 non-null      float64\n",
      " 72  Maximum Vehicle Class                    12917 non-null  object \n",
      " 73  EV Workplace Charging                    80587 non-null  object \n",
      " 74  Funding Sources                          60 non-null     object \n",
      "dtypes: float64(38), int64(1), object(36)\n",
      "memory usage: 46.1+ MB\n",
      "None\n"
     ]
    }
   ],
   "source": [
    "print(data.info())"
   ]
  },
  {
   "cell_type": "code",
   "execution_count": 4,
   "metadata": {},
   "outputs": [
    {
     "name": "stdout",
     "output_type": "stream",
     "text": [
      "Fuel Type Code                                 0\n",
      "Station Name                                   1\n",
      "Street Address                                32\n",
      "Intersection Directions                    56491\n",
      "City                                           3\n",
      "                                           ...  \n",
      "CNG Station Sells Renewable Natural Gas    80612\n",
      "LNG Station Sells Renewable Natural Gas    80612\n",
      "Maximum Vehicle Class                      67695\n",
      "EV Workplace Charging                         25\n",
      "Funding Sources                            80552\n",
      "Length: 75, dtype: int64\n"
     ]
    }
   ],
   "source": [
    "# Check for missing values\n",
    "print(data.isnull().sum())"
   ]
  },
  {
   "cell_type": "code",
   "execution_count": 5,
   "metadata": {},
   "outputs": [
    {
     "name": "stdout",
     "output_type": "stream",
     "text": [
      "       Plus4  BD Blends  NG Fill Type Code  NG PSI  EV Level1 EVSE Num  \\\n",
      "count    0.0        0.0                0.0     0.0          651.000000   \n",
      "mean     NaN        NaN                NaN     NaN            4.360983   \n",
      "std      NaN        NaN                NaN     NaN            8.504856   \n",
      "min      NaN        NaN                NaN     NaN            1.000000   \n",
      "25%      NaN        NaN                NaN     NaN            1.000000   \n",
      "50%      NaN        NaN                NaN     NaN            2.000000   \n",
      "75%      NaN        NaN                NaN     NaN            4.000000   \n",
      "max      NaN        NaN                NaN     NaN           90.000000   \n",
      "\n",
      "       EV Level2 EVSE Num  EV DC Fast Count      Latitude     Longitude  \\\n",
      "count        68915.000000      12831.000000  80612.000000  80612.000000   \n",
      "mean             2.579090          4.112930     37.874140    -96.184144   \n",
      "std              3.922985          5.329614      5.030495     19.390287   \n",
      "min              1.000000          1.000000     18.009854   -162.286348   \n",
      "25%              2.000000          1.000000     34.045075   -117.886025   \n",
      "50%              2.000000          2.000000     38.589087    -90.957508   \n",
      "75%              2.000000          6.000000     41.614163    -78.640523   \n",
      "max            338.000000        120.000000     64.852466    -65.756678   \n",
      "\n",
      "                  ID  ...  CNG Fill Type Code  CNG PSI  CNG Vehicle Class  \\\n",
      "count   80612.000000  ...                 0.0      0.0                0.0   \n",
      "mean   224031.399519  ...                 NaN      NaN                NaN   \n",
      "std     88088.550285  ...                 NaN      NaN                NaN   \n",
      "min      1517.000000  ...                 NaN      NaN                NaN   \n",
      "25%    167129.750000  ...                 NaN      NaN                NaN   \n",
      "50%    211692.500000  ...                 NaN      NaN                NaN   \n",
      "75%    311042.500000  ...                 NaN      NaN                NaN   \n",
      "max    375749.000000  ...                 NaN      NaN                NaN   \n",
      "\n",
      "       LNG Vehicle Class  RD Blends  RD Blends (French)  \\\n",
      "count                0.0        0.0                 0.0   \n",
      "mean                 NaN        NaN                 NaN   \n",
      "std                  NaN        NaN                 NaN   \n",
      "min                  NaN        NaN                 NaN   \n",
      "25%                  NaN        NaN                 NaN   \n",
      "50%                  NaN        NaN                 NaN   \n",
      "75%                  NaN        NaN                 NaN   \n",
      "max                  NaN        NaN                 NaN   \n",
      "\n",
      "       RD Blended with Biodiesel  RD Maximum Biodiesel Level  \\\n",
      "count                        0.0                         0.0   \n",
      "mean                         NaN                         NaN   \n",
      "std                          NaN                         NaN   \n",
      "min                          NaN                         NaN   \n",
      "25%                          NaN                         NaN   \n",
      "50%                          NaN                         NaN   \n",
      "75%                          NaN                         NaN   \n",
      "max                          NaN                         NaN   \n",
      "\n",
      "       CNG Station Sells Renewable Natural Gas  \\\n",
      "count                                      0.0   \n",
      "mean                                       NaN   \n",
      "std                                        NaN   \n",
      "min                                        NaN   \n",
      "25%                                        NaN   \n",
      "50%                                        NaN   \n",
      "75%                                        NaN   \n",
      "max                                        NaN   \n",
      "\n",
      "       LNG Station Sells Renewable Natural Gas  \n",
      "count                                      0.0  \n",
      "mean                                       NaN  \n",
      "std                                        NaN  \n",
      "min                                        NaN  \n",
      "25%                                        NaN  \n",
      "50%                                        NaN  \n",
      "75%                                        NaN  \n",
      "max                                        NaN  \n",
      "\n",
      "[8 rows x 39 columns]\n"
     ]
    }
   ],
   "source": [
    "# View statistics of numeric columns\n",
    "print(data.describe())"
   ]
  },
  {
   "cell_type": "code",
   "execution_count": 6,
   "metadata": {},
   "outputs": [],
   "source": [
    "data_cleaned = data.dropna()"
   ]
  },
  {
   "cell_type": "code",
   "execution_count": 7,
   "metadata": {},
   "outputs": [],
   "source": [
    "data_cleaned = data.fillna({\n",
    "    'numeric_column': 0,  # Replace 'numeric_column' with your actual column name\n",
    "    'string_column': 'Unknown'})"
   ]
  },
  {
   "cell_type": "code",
   "execution_count": 8,
   "metadata": {},
   "outputs": [
    {
     "name": "stdout",
     "output_type": "stream",
     "text": [
      "\n",
      "Number of duplicates: 0\n"
     ]
    }
   ],
   "source": [
    "print(\"\\nNumber of duplicates:\", data_cleaned.duplicated().sum())\n",
    "data_cleaned = data_cleaned.drop_duplicates()"
   ]
  },
  {
   "cell_type": "code",
   "execution_count": 9,
   "metadata": {},
   "outputs": [
    {
     "name": "stdout",
     "output_type": "stream",
     "text": [
      "\n",
      "Column data types before conversion:\n",
      "Fuel Type Code                              object\n",
      "Station Name                                object\n",
      "Street Address                              object\n",
      "Intersection Directions                     object\n",
      "City                                        object\n",
      "                                            ...   \n",
      "CNG Station Sells Renewable Natural Gas    float64\n",
      "LNG Station Sells Renewable Natural Gas    float64\n",
      "Maximum Vehicle Class                       object\n",
      "EV Workplace Charging                       object\n",
      "Funding Sources                             object\n",
      "Length: 75, dtype: object\n"
     ]
    }
   ],
   "source": [
    "print(\"\\nColumn data types before conversion:\")\n",
    "print(data_cleaned.dtypes)"
   ]
  },
  {
   "cell_type": "code",
   "execution_count": 10,
   "metadata": {},
   "outputs": [
    {
     "name": "stdout",
     "output_type": "stream",
     "text": [
      "Index(['Fuel Type Code', 'Station Name', 'Street Address',\n",
      "       'Intersection Directions', 'City', 'State', 'ZIP', 'Plus4',\n",
      "       'Station Phone', 'Status Code', 'Expected Date',\n",
      "       'Groups With Access Code', 'Access Days Time', 'Cards Accepted',\n",
      "       'BD Blends', 'NG Fill Type Code', 'NG PSI', 'EV Level1 EVSE Num',\n",
      "       'EV Level2 EVSE Num', 'EV DC Fast Count', 'EV Other Info', 'EV Network',\n",
      "       'EV Network Web', 'Geocode Status', 'Latitude', 'Longitude',\n",
      "       'Date Last Confirmed', 'ID', 'Updated At', 'Owner Type Code',\n",
      "       'Federal Agency ID', 'Federal Agency Name', 'Open Date',\n",
      "       'Hydrogen Status Link', 'NG Vehicle Class', 'LPG Primary',\n",
      "       'E85 Blender Pump', 'EV Connector Types', 'Country',\n",
      "       'Intersection Directions (French)', 'Access Days Time (French)',\n",
      "       'BD Blends (French)', 'Groups With Access Code (French)',\n",
      "       'Hydrogen Is Retail', 'Access Code', 'Access Detail Code',\n",
      "       'Federal Agency Code', 'Facility Type', 'CNG Dispenser Num',\n",
      "       'CNG On-Site Renewable Source', 'CNG Total Compression Capacity',\n",
      "       'CNG Storage Capacity', 'LNG On-Site Renewable Source',\n",
      "       'E85 Other Ethanol Blends', 'EV Pricing', 'EV Pricing (French)',\n",
      "       'LPG Nozzle Types', 'Hydrogen Pressures', 'Hydrogen Standards',\n",
      "       'CNG Fill Type Code', 'CNG PSI', 'CNG Vehicle Class',\n",
      "       'LNG Vehicle Class', 'EV On-Site Renewable Source', 'Restricted Access',\n",
      "       'RD Blends', 'RD Blends (French)', 'RD Blended with Biodiesel',\n",
      "       'RD Maximum Biodiesel Level', 'NPS Unit Name',\n",
      "       'CNG Station Sells Renewable Natural Gas',\n",
      "       'LNG Station Sells Renewable Natural Gas', 'Maximum Vehicle Class',\n",
      "       'EV Workplace Charging', 'Funding Sources'],\n",
      "      dtype='object')\n"
     ]
    }
   ],
   "source": [
    "print(data_cleaned.columns)"
   ]
  },
  {
   "cell_type": "code",
   "execution_count": 11,
   "metadata": {},
   "outputs": [],
   "source": [
    "data_cleaned.columns = data_cleaned.columns.str.strip()"
   ]
  },
  {
   "cell_type": "code",
   "execution_count": 12,
   "metadata": {},
   "outputs": [
    {
     "name": "stdout",
     "output_type": "stream",
     "text": [
      "Fuel Type Code                                 0\n",
      "Station Name                                   1\n",
      "Street Address                                32\n",
      "Intersection Directions                    56491\n",
      "City                                           3\n",
      "                                           ...  \n",
      "CNG Station Sells Renewable Natural Gas    80612\n",
      "LNG Station Sells Renewable Natural Gas    80612\n",
      "Maximum Vehicle Class                      67695\n",
      "EV Workplace Charging                         25\n",
      "Funding Sources                            80552\n",
      "Length: 75, dtype: int64\n"
     ]
    }
   ],
   "source": [
    "missing_values_count = data_cleaned.isnull().sum()\n",
    "print(missing_values_count)"
   ]
  },
  {
   "cell_type": "code",
   "execution_count": 13,
   "metadata": {},
   "outputs": [
    {
     "name": "stdout",
     "output_type": "stream",
     "text": [
      "80612\n"
     ]
    }
   ],
   "source": [
    "total_rows = len(data_cleaned)\n",
    "print(total_rows)"
   ]
  },
  {
   "cell_type": "code",
   "execution_count": 15,
   "metadata": {},
   "outputs": [
    {
     "data": {
      "text/plain": [
       "'C:\\\\Users\\\\Nicze\\\\OneDrive\\\\Documents\\\\alt_fuel_stations (Jan 16 2025) (2).csv'"
      ]
     },
     "execution_count": 15,
     "metadata": {},
     "output_type": "execute_result"
    }
   ],
   "source": [
    "# Save cleaned data to a new CSV file\n",
    "output_path = r'C:\\Users\\Nicze\\OneDrive\\Documents\\alt_fuel_stations (Jan 16 2025) (2).csv'\n",
    "data.to_csv(output_path, index=False)\n",
    "\n",
    "output_path"
   ]
  }
 ],
 "metadata": {
  "kernelspec": {
   "display_name": "Python 3",
   "language": "python",
   "name": "python3"
  },
  "language_info": {
   "codemirror_mode": {
    "name": "ipython",
    "version": 3
   },
   "file_extension": ".py",
   "mimetype": "text/x-python",
   "name": "python",
   "nbconvert_exporter": "python",
   "pygments_lexer": "ipython3",
   "version": "3.12.4"
  }
 },
 "nbformat": 4,
 "nbformat_minor": 4
}
